{
 "cells": [
  {
   "cell_type": "code",
   "execution_count": 45,
   "id": "6f31ceb7-3434-4eda-a00e-31c245e2ef46",
   "metadata": {},
   "outputs": [],
   "source": [
    "import numpy as np"
   ]
  },
  {
   "cell_type": "code",
   "execution_count": 46,
   "id": "62c7b124-e3ae-42df-98a8-e3db913f3342",
   "metadata": {},
   "outputs": [],
   "source": [
    "#creating an array called array lol \n",
    "numbers = [1,2,3,4]\n",
    "numpy_array = np.array(numbers)"
   ]
  },
  {
   "cell_type": "code",
   "execution_count": 47,
   "id": "41b7c74d-8fbf-4eb7-a1f6-a3f3013ff508",
   "metadata": {},
   "outputs": [
    {
     "name": "stdout",
     "output_type": "stream",
     "text": [
      "[1 2 3 4]\n"
     ]
    }
   ],
   "source": [
    "print(array)"
   ]
  },
  {
   "cell_type": "code",
   "execution_count": 48,
   "id": "7417c61f-6516-443a-b405-9ba8b7987f43",
   "metadata": {},
   "outputs": [
    {
     "name": "stdout",
     "output_type": "stream",
     "text": [
      "[2 4 6 8]\n"
     ]
    }
   ],
   "source": [
    "doubled  = numpy_array * 2\n",
    "print(doubled)"
   ]
  },
  {
   "cell_type": "code",
   "execution_count": 49,
   "id": "019321ab-b23f-4a99-a396-e91c94e74b88",
   "metadata": {},
   "outputs": [
    {
     "name": "stdout",
     "output_type": "stream",
     "text": [
      "[[0. 0. 0.]\n",
      " [0. 0. 0.]]\n"
     ]
    }
   ],
   "source": [
    "#zeros\n",
    "zeros = np.zeros((2,3))\n",
    "print(zeros)"
   ]
  },
  {
   "cell_type": "code",
   "execution_count": 50,
   "id": "30c9cc0d-b49e-41eb-b6fa-1516cc7b02a9",
   "metadata": {},
   "outputs": [
    {
     "name": "stdout",
     "output_type": "stream",
     "text": [
      "[1. 1. 1.]\n"
     ]
    }
   ],
   "source": [
    "#ones\n",
    "ones = np.ones((3,))\n",
    "print(ones)"
   ]
  },
  {
   "cell_type": "code",
   "execution_count": 51,
   "id": "2f67159a-69fd-4fb1-9b78-37d5259f7fa3",
   "metadata": {},
   "outputs": [
    {
     "name": "stdout",
     "output_type": "stream",
     "text": [
      "[0 2 4 6 8]\n"
     ]
    }
   ],
   "source": [
    "#range_array\n",
    "range_array = np.arange(0,10,2)\n",
    "print(range_array)"
   ]
  },
  {
   "cell_type": "code",
   "execution_count": 52,
   "id": "98a74799-3005-47ac-9ab9-f0e8b2cf950c",
   "metadata": {},
   "outputs": [
    {
     "name": "stdout",
     "output_type": "stream",
     "text": [
      "[[1. 1. 1. 1.]\n",
      " [1. 1. 1. 1.]\n",
      " [1. 1. 1. 1.]\n",
      " [1. 1. 1. 1.]]\n"
     ]
    }
   ],
   "source": [
    "four_ones = np.ones((4,4))\n",
    "print(four_ones)"
   ]
  },
  {
   "cell_type": "code",
   "execution_count": 53,
   "id": "ab646e59-a2a5-42fc-b257-30438281d1da",
   "metadata": {},
   "outputs": [
    {
     "name": "stdout",
     "output_type": "stream",
     "text": [
      "[0 1 2 3 4 5 6 7 8 9]\n"
     ]
    }
   ],
   "source": [
    "range_array2 = np.arange(0,10)\n",
    "print(range_array2)"
   ]
  },
  {
   "cell_type": "code",
   "execution_count": 54,
   "id": "fec2f7ba-3ac4-4081-8988-d2bba3c39556",
   "metadata": {},
   "outputs": [
    {
     "name": "stdout",
     "output_type": "stream",
     "text": [
      "[0.   0.25 0.5  0.75 1.  ]\n"
     ]
    }
   ],
   "source": [
    "linspace = np.linspace(0,1, num=5)\n",
    "print(linspace)"
   ]
  },
  {
   "cell_type": "code",
   "execution_count": 55,
   "id": "e6151e4b-64b5-4759-8943-7f79842cc40c",
   "metadata": {},
   "outputs": [
    {
     "name": "stdout",
     "output_type": "stream",
     "text": [
      "[[ 1  2  3]\n",
      " [ 4  5  6]\n",
      " [ 7  8  9]\n",
      " [10 11 12]]\n"
     ]
    }
   ],
   "source": [
    "matrix = np.array([[1,2,3], [4,5,6], [7,8,9], [10,11,12]])\n",
    "print(matrix)"
   ]
  },
  {
   "cell_type": "code",
   "execution_count": 56,
   "id": "a55f2eea-9e97-48ff-9d46-e5fa95474228",
   "metadata": {},
   "outputs": [
    {
     "name": "stdout",
     "output_type": "stream",
     "text": [
      "2\n"
     ]
    }
   ],
   "source": [
    "#print element at row 1, column 2\n",
    "print(matrix[0,1])"
   ]
  },
  {
   "cell_type": "code",
   "execution_count": 77,
   "id": "332a5786-a46a-43dd-8c1e-3dc637ad7532",
   "metadata": {},
   "outputs": [
    {
     "name": "stdout",
     "output_type": "stream",
     "text": [
      "[[ 8  9]\n",
      " [11 12]]\n"
     ]
    }
   ],
   "source": [
    "#print the mini matrix \n",
    "print(matrix[2:,1:])"
   ]
  },
  {
   "cell_type": "code",
   "execution_count": 61,
   "id": "c164283c-9599-4648-875e-31cd3d8bc5fa",
   "metadata": {},
   "outputs": [
    {
     "name": "stdout",
     "output_type": "stream",
     "text": [
      "[1 2 3 4 5 6 7 8 9]\n",
      "[1 2 3 4 5]\n"
     ]
    }
   ],
   "source": [
    "a = np.arange(1,10)\n",
    "print(a)\n",
    "print(a[0:5])\n"
   ]
  },
  {
   "cell_type": "code",
   "execution_count": 78,
   "id": "41e4406f-aa82-4c0d-99eb-24d46286a017",
   "metadata": {},
   "outputs": [
    {
     "name": "stdout",
     "output_type": "stream",
     "text": [
      "[ 1  2  3  4  5  6  7  8  9 10 11 12]\n"
     ]
    }
   ],
   "source": [
    "#reshaping arrays \n",
    "\n",
    "na = np.arange(1,13)\n",
    "print(na)"
   ]
  },
  {
   "cell_type": "code",
   "execution_count": 79,
   "id": "0a6922d6-3ec5-4003-9aa5-bf622fd4d3e8",
   "metadata": {},
   "outputs": [
    {
     "name": "stdout",
     "output_type": "stream",
     "text": [
      "[[ 1  2  3  4]\n",
      " [ 5  6  7  8]\n",
      " [ 9 10 11 12]]\n"
     ]
    }
   ],
   "source": [
    "reshaped =na.reshape(3,4)\n",
    "print(reshaped)"
   ]
  },
  {
   "cell_type": "code",
   "execution_count": 82,
   "id": "867bdbf7-5ac2-4b5f-ac3d-5d3feace940a",
   "metadata": {},
   "outputs": [
    {
     "name": "stdout",
     "output_type": "stream",
     "text": [
      "[[1 2]\n",
      " [5 6]]\n"
     ]
    }
   ],
   "source": [
    "#extract a submatrix of the top left 2 x 2\n",
    "print(reshaped[:2,:2])"
   ]
  },
  {
   "cell_type": "code",
   "execution_count": 84,
   "id": "3538fba1-4b38-4a81-93b8-ac1433c98079",
   "metadata": {},
   "outputs": [
    {
     "name": "stdout",
     "output_type": "stream",
     "text": [
      "[ 1  2  3  4  5  6  7  8  9 10 11 12]\n"
     ]
    }
   ],
   "source": [
    "#flatten the array back to its original format \n",
    "flat = reshaped.flatten()\n",
    "print(flat)"
   ]
  },
  {
   "cell_type": "code",
   "execution_count": 94,
   "id": "29181c34-7470-4b73-9fa1-4e91c071ad52",
   "metadata": {},
   "outputs": [
    {
     "name": "stdout",
     "output_type": "stream",
     "text": [
      "[ 2  3  6  7 10 11]\n"
     ]
    }
   ],
   "source": [
    "print(reshaped[:,1:3].flatten())"
   ]
  },
  {
   "cell_type": "code",
   "execution_count": 93,
   "id": "de707ecc-d19a-4714-9402-3ad9becede3f",
   "metadata": {},
   "outputs": [
    {
     "name": "stdout",
     "output_type": "stream",
     "text": [
      "[ 2  3  6  7 10 11]\n"
     ]
    }
   ],
   "source": [
    "# flatter = reshaped[:,1:3].flatten()\n",
    "# print(flatter)"
   ]
  },
  {
   "cell_type": "code",
   "execution_count": null,
   "id": "39602947-6e3b-4c62-b272-9484d217a1eb",
   "metadata": {},
   "outputs": [],
   "source": []
  }
 ],
 "metadata": {
  "kernelspec": {
   "display_name": "Python 3 (ipykernel)",
   "language": "python",
   "name": "python3"
  },
  "language_info": {
   "codemirror_mode": {
    "name": "ipython",
    "version": 3
   },
   "file_extension": ".py",
   "mimetype": "text/x-python",
   "name": "python",
   "nbconvert_exporter": "python",
   "pygments_lexer": "ipython3",
   "version": "3.13.2"
  }
 },
 "nbformat": 4,
 "nbformat_minor": 5
}
