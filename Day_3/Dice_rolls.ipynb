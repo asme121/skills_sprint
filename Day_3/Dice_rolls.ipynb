{
 "cells": [
  {
   "cell_type": "code",
   "execution_count": 2,
   "id": "7d4fadc5-3ef2-4eda-8922-e18f96c9b1c0",
   "metadata": {},
   "outputs": [],
   "source": [
    "import numpy as np \n"
   ]
  },
  {
   "cell_type": "code",
   "execution_count": 3,
   "id": "6e0f9fdb-eda8-438d-b36b-c491d5dfba57",
   "metadata": {},
   "outputs": [],
   "source": [
    "dice = np.random.randint(1,7, size=10)\n",
    "print('dice rolls', dice)"
   ]
  },
  {
   "cell_type": "code",
   "execution_count": 4,
   "id": "ba41a750-2605-431a-939f-065409ef9104",
   "metadata": {},
   "outputs": [
    {
     "name": "stdout",
     "output_type": "stream",
     "text": [
      "dice rolls [2 3 2 4 4 1 5 6 1 2]\n"
     ]
    }
   ],
   "source": [
    "print('dice rolls', dice)"
   ]
  },
  {
   "cell_type": "code",
   "execution_count": 5,
   "id": "de872e73-03a5-4f5a-80c6-6fc6a985c8c9",
   "metadata": {},
   "outputs": [
    {
     "name": "stdout",
     "output_type": "stream",
     "text": [
      "rando floats [0.1061046  0.62919777 0.44702321 0.67280283 0.70019524]\n"
     ]
    }
   ],
   "source": [
    "rand_floats = np.random.rand(5)\n",
    "print('random floats',rand_floats) "
   ]
  },
  {
   "cell_type": "code",
   "execution_count": null,
   "id": "068fd0ee-5cb7-479b-9936-5d8327965cc3",
   "metadata": {},
   "outputs": [],
   "source": [
    "norm_samples = np.random.randn()\n",
    "print('random floats',norm_samples) "
   ]
  },
  {
   "cell_type": "code",
   "execution_count": 9,
   "id": "d88ef43a-469b-448d-af3f-d0950f590c09",
   "metadata": {},
   "outputs": [
    {
     "name": "stdout",
     "output_type": "stream",
     "text": [
      "[1 5 1 4 2 6 1 3 2 5 4 4 3 5 3 1 4 1 3 4]\n",
      "Min in 1 and Max is  6\n"
     ]
    }
   ],
   "source": [
    "dice1 = np.random.randint(1,7, size=20)\n",
    "print(dice1)\n",
    "print('Min in', dice1.min(), 'and Max is ',dice1.max())"
   ]
  },
  {
   "cell_type": "code",
   "execution_count": 10,
   "id": "df73b895-915c-468f-8e90-f518ff52f7f8",
   "metadata": {},
   "outputs": [
    {
     "name": "stdout",
     "output_type": "stream",
     "text": [
      "[8.7753612  3.61850021 1.86089226 1.05067886 4.01934394 4.91261707\n",
      " 4.84622389 9.89811587 0.6789624  1.39281049]\n"
     ]
    }
   ],
   "source": [
    "rand_floats1 = np.random.uniform(low=0,high=10, size=10)\n",
    "print(rand_floats1)"
   ]
  },
  {
   "cell_type": "code",
   "execution_count": null,
   "id": "d8170d59-9376-4be7-9ca9-d0b2b3f5b8bf",
   "metadata": {},
   "outputs": [],
   "source": [
    "#Generate 1,000 samples froma normal distribution\n",
    "normal_samps = np.random.rand(1000)\n",
    "print('Get the first 10:',normal_samps[:10)"
   ]
  },
  {
   "cell_type": "code",
   "execution_count": 18,
   "id": "084cac82-d45f-45d5-8d47-c61282fc735f",
   "metadata": {},
   "outputs": [
    {
     "name": "stdout",
     "output_type": "stream",
     "text": [
      "Sum is:  152\n",
      "Mean is:  3.04\n",
      "Median is:  3.0\n",
      "Std Dev is:  1.5994999218505763\n",
      "Max is:  6\n",
      "Min is:  1\n"
     ]
    }
   ],
   "source": [
    "#use the dice rolls and find the method to find the \n",
    "#sum, mean, median, std dev, min + max)\n",
    "dice3 = np.random.randint(1,7, size=50)\n",
    "\n",
    "print('Sum is: ', dice3.sum())\n",
    "print('Mean is: ', dice3.mean())\n",
    "print('Median is: ', np.median(dice3))\n",
    "print('Std Dev is: ', np.std(dice3))\n",
    "print('Max is: ', dice3.max())\n",
    "print('Min is: ', dice3.min())"
   ]
  }
 ],
 "metadata": {
  "kernelspec": {
   "display_name": "Python 3 (ipykernel)",
   "language": "python",
   "name": "python3"
  },
  "language_info": {
   "codemirror_mode": {
    "name": "ipython",
    "version": 3
   },
   "file_extension": ".py",
   "mimetype": "text/x-python",
   "name": "python",
   "nbconvert_exporter": "python",
   "pygments_lexer": "ipython3",
   "version": "3.13.2"
  }
 },
 "nbformat": 4,
 "nbformat_minor": 5
}
