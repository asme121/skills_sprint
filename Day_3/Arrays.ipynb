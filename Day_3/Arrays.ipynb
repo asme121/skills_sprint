{
 "cells": [
  {
   "cell_type": "code",
   "execution_count": 17,
   "id": "d9fdf0c2-dbb2-41b4-a2d6-8fcbfbac78af",
   "metadata": {},
   "outputs": [],
   "source": [
    "import numpy as np "
   ]
  },
  {
   "cell_type": "code",
   "execution_count": 18,
   "id": "f4c4772c-ee3c-4695-bccf-1270eae6fd29",
   "metadata": {},
   "outputs": [
    {
     "name": "stdout",
     "output_type": "stream",
     "text": [
      "[11 22 33 44]\n",
      "[ -9 -18 -27 -36]\n",
      "[ 10  40  90 160]\n",
      "[1.         1.41421356 1.73205081 2.        ]\n",
      "[2.20264658e+04 4.85165195e+08 1.06864746e+13 2.35385267e+17]\n"
     ]
    }
   ],
   "source": [
    "a = np.array([1,2,3,4])\n",
    "b = np.array([10,20,30,40])\n",
    "print(a + b)\n",
    "print(a - b)\n",
    "print(a * b)\n",
    "print(np.sqrt(a))\n",
    "print(np.exp(b))"
   ]
  },
  {
   "cell_type": "code",
   "execution_count": 19,
   "id": "70222aff-285c-4b6f-98b1-94428a98ee2e",
   "metadata": {},
   "outputs": [
    {
     "name": "stdout",
     "output_type": "stream",
     "text": [
      "[ 7 14 21]\n",
      "[3 6 9]\n",
      "[10 40 90]\n",
      "[2.5 2.5 2.5]\n",
      "[ 125 1000 3375]\n"
     ]
    }
   ],
   "source": [
    "a1 = np.array([5, 10, 15])\n",
    "b1 = np.array([2,4,6])\n",
    "print(a1 +b1)\n",
    "print(a1 - b1)\n",
    "print(a1 * b1)\n",
    "print(a1 / b1)\n",
    "print(np.power(a1,3))"
   ]
  },
  {
   "cell_type": "code",
   "execution_count": 20,
   "id": "f580793a-f8c5-442d-8f1c-8dea86222c3e",
   "metadata": {},
   "outputs": [
    {
     "name": "stdout",
     "output_type": "stream",
     "text": [
      "arr + 10 [11 12 13]\n"
     ]
    }
   ],
   "source": [
    "#BROADCASTINNNN\n",
    "\n",
    "c1 = np.array([1,2,3])\n",
    "\n",
    "#add\n",
    "\n",
    "print('arr + 10', c1 + 10)"
   ]
  },
  {
   "cell_type": "code",
   "execution_count": 21,
   "id": "cd612400-57ac-410e-9876-b60bb9c0aafc",
   "metadata": {},
   "outputs": [
    {
     "name": "stdout",
     "output_type": "stream",
     "text": [
      "arr X 5 [ 5 10 15]\n"
     ]
    }
   ],
   "source": [
    "print('arr X 5', c1 * 5)"
   ]
  },
  {
   "cell_type": "code",
   "execution_count": 22,
   "id": "f25593e4-d8c2-4707-ab39-d1bc30ca85b0",
   "metadata": {},
   "outputs": [
    {
     "name": "stdout",
     "output_type": "stream",
     "text": [
      "[[ 1  2  3]\n",
      " [ 4  5  6]\n",
      " [ 7  8  9]\n",
      " [10 11 12]]\n",
      "add array to matrix [[ 2  4  6]\n",
      " [ 5  7  9]\n",
      " [ 8 10 12]\n",
      " [11 13 15]]\n"
     ]
    }
   ],
   "source": [
    "matrix = np.array([[1,2,3], [4,5,6], [7,8,9], [10,11,12]])\n",
    "print(matrix)\n",
    "print('add array to matrix', matrix + c1)"
   ]
  },
  {
   "cell_type": "code",
   "execution_count": 26,
   "id": "a62d0164-d6f4-4f36-9462-b59542cab081",
   "metadata": {},
   "outputs": [
    {
     "name": "stdout",
     "output_type": "stream",
     "text": [
      "multiply by 0.5 [1. 2. 3. 4.]\n",
      "add array to 3x3 [[ 2  4  6]\n",
      " [ 5  7  9]\n",
      " [ 8 10 12]]\n",
      "add 10 to a 2x3 [[20 30 40]\n",
      " [50 60 70]]\n"
     ]
    }
   ],
   "source": [
    "a3 = np.array([2, 4, 6, 8])\n",
    "b3 = np.array([[1,2,3], [4,5,6], [7,8,9]])\n",
    "c3 = np.array([[10,20,30], [40,50,60]])\n",
    "d3 = np.array([1,2,3])\n",
    "e3 = np.array([10,10,10])\n",
    "\n",
    "print('multiply by 0.5', a3 * .5)\n",
    "print('add array to 3x3', b3 + d3)\n",
    "print('add 10 to a 2x3', c3 + e3)"
   ]
  },
  {
   "cell_type": "code",
   "execution_count": 29,
   "id": "99b316b9-30ba-4182-a939-351fa9ec865b",
   "metadata": {},
   "outputs": [
    {
     "ename": "TypeError",
     "evalue": "'list' object is not callable",
     "output_type": "error",
     "traceback": [
      "\u001b[31m---------------------------------------------------------------------------\u001b[39m",
      "\u001b[31mTypeError\u001b[39m                                 Traceback (most recent call last)",
      "\u001b[36mCell\u001b[39m\u001b[36m \u001b[39m\u001b[32mIn[29]\u001b[39m\u001b[32m, line 4\u001b[39m\n\u001b[32m      1\u001b[39m \u001b[38;5;28;01mimport\u001b[39;00m\u001b[38;5;250m \u001b[39m\u001b[34;01mtime\u001b[39;00m\n\u001b[32m      3\u001b[39m size = \u001b[32m1_000_000\u001b[39m\n\u001b[32m----> \u001b[39m\u001b[32m4\u001b[39m list1 = \u001b[38;5;28;43mlist\u001b[39;49m\u001b[43m(\u001b[49m\u001b[38;5;28;43mrange\u001b[39;49m\u001b[43m(\u001b[49m\u001b[43msize\u001b[49m\u001b[43m)\u001b[49m\u001b[43m)\u001b[49m\n\u001b[32m      5\u001b[39m start = time.time\n\u001b[32m      6\u001b[39m list2 = [x *\u001b[32m2\u001b[39m \u001b[38;5;28;01mfor\u001b[39;00m x \u001b[38;5;129;01min\u001b[39;00m list1]\n",
      "\u001b[31mTypeError\u001b[39m: 'list' object is not callable"
     ]
    }
   ],
   "source": [
    "import time\n",
    "\n",
    "size = 1_000_000\n",
    "list1 = list(range(size))\n",
    "start = time.time\n",
    "list2 = [x *2 for x in list1]\n",
    "print('python list time:', time - start)\n",
    "\n",
    "#numpy array \n",
    "\n",
    "arr = np.arange(size)\n",
    "start = time.time()\n",
    "arr2 = arr1 * 2\n",
    "print('numpy array time', time.time() - start)\n"
   ]
  }
 ],
 "metadata": {
  "kernelspec": {
   "display_name": "Python 3 (ipykernel)",
   "language": "python",
   "name": "python3"
  },
  "language_info": {
   "codemirror_mode": {
    "name": "ipython",
    "version": 3
   },
   "file_extension": ".py",
   "mimetype": "text/x-python",
   "name": "python",
   "nbconvert_exporter": "python",
   "pygments_lexer": "ipython3",
   "version": "3.13.2"
  }
 },
 "nbformat": 4,
 "nbformat_minor": 5
}
