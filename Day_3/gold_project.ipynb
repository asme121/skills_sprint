{
 "cells": [
  {
   "cell_type": "code",
   "execution_count": 6,
   "id": "64d3397d-081a-4419-b46f-2fe7b3b95c36",
   "metadata": {},
   "outputs": [],
   "source": [
    "import pandas as pd\n",
    "import numpy as np"
   ]
  },
  {
   "cell_type": "code",
   "execution_count": 5,
   "id": "dc791b70-d75c-4238-bf0d-b13d8c1ca146",
   "metadata": {},
   "outputs": [
    {
     "name": "stdout",
     "output_type": "stream",
     "text": [
      "         date       open       high        low      close  adj_close    volume\n",
      "0  2004-11-18  44.380001  44.380001  44.490002  44.070000  44.430000   5992000\n",
      "1  2004-11-19  44.779999  44.779999  44.919998  44.470001  44.490002  11655300\n",
      "2  2004-11-22  44.950001  44.950001  44.970001  44.740002  44.750000  11996000\n",
      "3  2004-11-23  44.750000  44.750000  44.919998  44.720001  44.880001   3169200\n",
      "4  2004-11-24  45.049999  45.049999  45.049999  44.790001  44.930000   6105100\n"
     ]
    }
   ],
   "source": [
    "df = pd.read_csv('gold_price_data.csv')\n",
    "print(df.head())"
   ]
  },
  {
   "cell_type": "code",
   "execution_count": 8,
   "id": "2b2c7a55-5f69-4116-bf82-ee8e47072a00",
   "metadata": {},
   "outputs": [
    {
     "name": "stdout",
     "output_type": "stream",
     "text": [
      "[ 44.06999969  44.47000122  44.74000168 ... 311.         307.63000488\n",
      " 306.70999146]\n"
     ]
    }
   ],
   "source": [
    "close = np.array(df['close'])\n",
    "print(close)"
   ]
  },
  {
   "cell_type": "code",
   "execution_count": null,
   "id": "86e718fa-6635-412b-b59b-a026bbdf79e2",
   "metadata": {},
   "outputs": [],
   "source": [
    "# 2️⃣ Basic Statistics\n",
    "# - mean closing price\n",
    "# - median closing price\n",
    "# - standard deviation\n",
    "# - maximum closing price\n",
    "# - minimum closing price\n",
    "# - Calculate the range of gold closing prices  (max – min).\n",
    "# - Find the day(s) where the closing price equaled the maximum."
   ]
  },
  {
   "cell_type": "code",
   "execution_count": 24,
   "id": "98fbca54-e009-4ac2-8c22-984144fa7498",
   "metadata": {},
   "outputs": [
    {
     "name": "stdout",
     "output_type": "stream",
     "text": [
      "Mean is:  131.25655610915683\n",
      "Median is:  123.9800033569336\n",
      "STD Dev is:  51.06827818298171\n",
      "Max is:  315.0400085449219\n",
      "Min is:  41.02000045776367\n",
      "Range of gold closing prices:  274.0200080871582\n",
      "Day(s) where the closing price equaled the maximum is:  1\n"
     ]
    }
   ],
   "source": [
    "print('Mean is: ', close.mean())\n",
    "print('Median is: ', np.median(close))\n",
    "print('STD Dev is: ', np.std(close))\n",
    "print('Max is: ', close.max())\n",
    "print('Min is: ', close.min())\n",
    "print('Range of gold closing prices: ', close.max() - close.min())\n",
    "print('Day(s) where the closing price equaled the maximum is: ', np.count_nonzero(close == close.max()))"
   ]
  },
  {
   "cell_type": "code",
   "execution_count": null,
   "id": "3882f538-da67-417e-ae6d-a22d9a9da483",
   "metadata": {},
   "outputs": [],
   "source": [
    "# 3️⃣ Slicing & Reshaping\n",
    "# - get the first 30 days\n",
    "# - get the last 30 days\n",
    "# - reshape into chunks of 30 (approx months)\n",
    "# - Find the average price per month using np.mean(reshaped, axis=1).\n",
    "# - Compare the first month’s average to the last month’s."
   ]
  },
  {
   "cell_type": "code",
   "execution_count": 27,
   "id": "2c09733d-dd99-4ad0-a150-415fa3f5a6f9",
   "metadata": {},
   "outputs": [
    {
     "name": "stdout",
     "output_type": "stream",
     "text": [
      "The first 30 days are:  [44.06999969 44.47000122 44.74000168 44.72000122 44.79000092 45.06000137\n",
      " 45.08000183 44.81999969 45.25999832 44.68000031 44.79999924 45.11000061\n",
      " 45.06999969 43.36000061 43.20000076 43.31000137 43.50999832 43.50999832\n",
      " 43.91999817 43.58000183 43.77999878 44.13000107 44.04999924 43.88999939\n",
      " 44.04999924 44.27000046 44.29000092 43.34999847 43.49000168 43.72999954]\n",
      "The last 30 days are:  [307.35998535 306.95999146 306.1499939  304.52999878 302.76998901\n",
      " 303.23001099 304.82000732 308.51998901 307.73001099 305.79000854\n",
      " 305.73001099 305.11999512 308.32000732 311.60998535 313.61999512\n",
      " 311.42001343 309.05999756 306.20001221 304.04998779 304.98999023\n",
      " 300.95999146 302.85998535 307.45001221 310.36999512 310.22000122\n",
      " 309.83999634 310.70001221 311.         307.63000488 306.70999146]\n"
     ]
    }
   ],
   "source": [
    "print('The first 30 days are: ', close[:30])\n",
    "print('The last 30 days are: ', close[-30:])"
   ]
  },
  {
   "cell_type": "code",
   "execution_count": 41,
   "id": "7cf9c236-8221-4b1c-9a7b-4dddcbc17203",
   "metadata": {},
   "outputs": [
    {
     "name": "stdout",
     "output_type": "stream",
     "text": [
      "5215\n"
     ]
    }
   ],
   "source": [
    "print(len(close))"
   ]
  },
  {
   "cell_type": "code",
   "execution_count": 38,
   "id": "9ed436b8-9489-4565-8b26-0040a6196c81",
   "metadata": {},
   "outputs": [
    {
     "ename": "TypeError",
     "evalue": "'int' object is not callable",
     "output_type": "error",
     "traceback": [
      "\u001b[31m---------------------------------------------------------------------------\u001b[39m",
      "\u001b[31mTypeError\u001b[39m                                 Traceback (most recent call last)",
      "\u001b[36mCell\u001b[39m\u001b[36m \u001b[39m\u001b[32mIn[38]\u001b[39m\u001b[32m, line 1\u001b[39m\n\u001b[32m----> \u001b[39m\u001b[32m1\u001b[39m \u001b[38;5;28mprint\u001b[39m(\u001b[43mclose\u001b[49m\u001b[43m.\u001b[49m\u001b[43msize\u001b[49m\u001b[43m(\u001b[49m\u001b[43m)\u001b[49m)\n",
      "\u001b[31mTypeError\u001b[39m: 'int' object is not callable"
     ]
    }
   ],
   "source": [
    "print(close.size())"
   ]
  },
  {
   "cell_type": "code",
   "execution_count": 44,
   "id": "41b255bd-99e9-4b18-b8ec-5965748135aa",
   "metadata": {},
   "outputs": [
    {
     "name": "stdout",
     "output_type": "stream",
     "text": [
      "[[307.35998535 306.95999146 306.1499939  304.52999878 302.76998901\n",
      "  303.23001099 304.82000732 308.51998901 307.73001099 305.79000854\n",
      "  305.73001099 305.11999512 308.32000732 311.60998535 313.61999512\n",
      "  311.42001343 309.05999756 306.20001221 304.04998779 304.98999023\n",
      "  300.95999146 302.85998535 307.45001221 310.36999512 310.22000122\n",
      "  309.83999634 310.70001221 311.         307.63000488 306.70999146]]\n"
     ]
    }
   ],
   "source": [
    "print(close[-30:].reshape(-1,30))"
   ]
  },
  {
   "cell_type": "code",
   "execution_count": null,
   "id": "ddc5c3c9-b3f9-4b9f-af62-89612d8b620c",
   "metadata": {},
   "outputs": [],
   "source": []
  }
 ],
 "metadata": {
  "kernelspec": {
   "display_name": "Python 3 (ipykernel)",
   "language": "python",
   "name": "python3"
  },
  "language_info": {
   "codemirror_mode": {
    "name": "ipython",
    "version": 3
   },
   "file_extension": ".py",
   "mimetype": "text/x-python",
   "name": "python",
   "nbconvert_exporter": "python",
   "pygments_lexer": "ipython3",
   "version": "3.13.2"
  }
 },
 "nbformat": 4,
 "nbformat_minor": 5
}
