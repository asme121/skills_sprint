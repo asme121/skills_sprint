{
 "cells": [
  {
   "cell_type": "code",
   "execution_count": 6,
   "id": "28ef15df-e630-4d83-a6b0-3ff15087603f",
   "metadata": {},
   "outputs": [],
   "source": [
    "import pandas as pd "
   ]
  },
  {
   "cell_type": "code",
   "execution_count": 11,
   "id": "c83d8431-3d08-4502-9e6f-f6e4ce924e89",
   "metadata": {},
   "outputs": [
    {
     "name": "stdout",
     "output_type": "stream",
     "text": [
      "0    1\n",
      "1    2\n",
      "2    3\n",
      "3    4\n",
      "4    5\n",
      "dtype: int64\n"
     ]
    }
   ],
   "source": [
    "#series in pandas\n",
    "\n",
    "data = [1,2,3,4,5]\n",
    "series = pd.Series(data)\n",
    "print(series)"
   ]
  },
  {
   "cell_type": "code",
   "execution_count": 12,
   "id": "edece7fd-c475-4b4a-8b20-b00f987e0a0c",
   "metadata": {},
   "outputs": [],
   "source": [
    "#on series you can access values and index. But why is because of indexing \n",
    "#and values. In an array you cat change the values\n"
   ]
  },
  {
   "cell_type": "code",
   "execution_count": 17,
   "id": "459114f2-8468-4a91-ad39-eca9d0dae799",
   "metadata": {},
   "outputs": [
    {
     "name": "stdout",
     "output_type": "stream",
     "text": [
      "[1 2 3 4 5]\n",
      "RangeIndex(start=0, stop=5, step=1)\n"
     ]
    }
   ],
   "source": [
    "print(series.values)\n",
    "print(series.index)"
   ]
  },
  {
   "cell_type": "code",
   "execution_count": 18,
   "id": "1979ed27-88a4-4c74-8e6d-72236c4c0e0a",
   "metadata": {},
   "outputs": [],
   "source": [
    "# Create a series of 5 tempreatures\n",
    "# Print the max and min\n",
    "# Change the index to be days of the week instead of numbers"
   ]
  },
  {
   "cell_type": "code",
   "execution_count": 24,
   "id": "ba1786f7-f0d8-4418-810e-5fd57e2fa804",
   "metadata": {},
   "outputs": [
    {
     "name": "stdout",
     "output_type": "stream",
     "text": [
      "44\n",
      "13\n",
      "Monday       23\n",
      "Tuesday      13\n",
      "Wednesday    44\n",
      "Thursday     22\n",
      "Friday       19\n",
      "dtype: int64\n"
     ]
    }
   ],
   "source": [
    "data1 = [23,13,44,22,19]\n",
    "temps = pd.Series(data1)\n",
    "print(temps.max())\n",
    "print(temps.min())\n",
    "temps.index = ['Monday', 'Tuesday', 'Wednesday', 'Thursday', 'Friday']\n",
    "print(temps)"
   ]
  },
  {
   "cell_type": "code",
   "execution_count": 29,
   "id": "c0c6f62a-d840-4336-9b0b-260ccf2dc413",
   "metadata": {},
   "outputs": [
    {
     "name": "stdout",
     "output_type": "stream",
     "text": [
      "    Name  Age     City\n",
      "0  Ollie   32  Reading\n",
      "1    Sam   24   London\n",
      "2   Luke   43    North\n",
      "3   Liam   12   London\n"
     ]
    }
   ],
   "source": [
    "data3 = {\n",
    "    'Name': ['Ollie', 'Sam', 'Luke', 'Liam'],\n",
    "    'Age': [32,24,43,12],\n",
    "'City': ['Reading', 'London', 'North', 'London']\n",
    "}\n",
    "\n",
    "df = pd.DataFrame(data3)\n",
    "print(df)"
   ]
  },
  {
   "cell_type": "code",
   "execution_count": 30,
   "id": "3f93f640-0d4d-4faf-96f4-d35f0cde901f",
   "metadata": {},
   "outputs": [],
   "source": [
    "# Create a DataFrame of 3 products with name, price, and quantity, \n",
    "# each should have 3 values in\n",
    "# Add a new column for “total value” (price × quantity)."
   ]
  },
  {
   "cell_type": "code",
   "execution_count": 32,
   "id": "a01b3504-9086-42c7-be3b-371211c5ee22",
   "metadata": {},
   "outputs": [
    {
     "name": "stdout",
     "output_type": "stream",
     "text": [
      "        Name  Price  Quantiity\n",
      "0      Apple    1.5          4\n",
      "1     Orange    1.9          2\n",
      "2  Pineapple    3.0          7\n",
      "3     Banana    0.5          6\n",
      "        Name  Price  Quantiity  Total Value\n",
      "0      Apple    1.5          4          6.0\n",
      "1     Orange    1.9          2          3.8\n",
      "2  Pineapple    3.0          7         21.0\n",
      "3     Banana    0.5          6          3.0\n"
     ]
    }
   ],
   "source": [
    "data4 = {\n",
    "    'Name': ['Apple', 'Orange', 'Pineapple', 'Banana'],\n",
    "    'Price': [1.5,1.9,3,.5],\n",
    "'Quantity': [4,2,7,6]\n",
    "}\n",
    "df = pd.DataFrame(data4)\n",
    "print(df)\n",
    "df['Total Value'] = df['Price'] * df['Quantity']\n",
    "print(df)"
   ]
  }
 ],
 "metadata": {
  "kernelspec": {
   "display_name": "Python 3 (ipykernel)",
   "language": "python",
   "name": "python3"
  },
  "language_info": {
   "codemirror_mode": {
    "name": "ipython",
    "version": 3
   },
   "file_extension": ".py",
   "mimetype": "text/x-python",
   "name": "python",
   "nbconvert_exporter": "python",
   "pygments_lexer": "ipython3",
   "version": "3.13.2"
  }
 },
 "nbformat": 4,
 "nbformat_minor": 5
}
