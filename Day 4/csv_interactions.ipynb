{
 "cells": [
  {
   "cell_type": "code",
   "execution_count": 3,
   "id": "eeb7e7a0-c928-4e72-af5b-c1452a6709d0",
   "metadata": {},
   "outputs": [],
   "source": [
    "import pandas as pd"
   ]
  },
  {
   "cell_type": "code",
   "execution_count": 6,
   "id": "dfa533e2-b2a7-4fe6-8d2e-43d092237fe4",
   "metadata": {},
   "outputs": [
    {
     "name": "stdout",
     "output_type": "stream",
     "text": [
      "       Name      School Grade  Score\n",
      "0  Student1   West High     A     92\n",
      "1  Student2  South High     F      6\n",
      "2  Student3  North High     D     64\n",
      "3  Student4   West High     B     88\n",
      "4  Student5   West High     A     96\n"
     ]
    }
   ],
   "source": [
    "df = pd.read_csv(\"students_with_scores.csv\")\n",
    "\n",
    "print(df.head())"
   ]
  },
  {
   "cell_type": "code",
   "execution_count": 8,
   "id": "6a530564-f672-4b53-94b9-69f3d2a8e321",
   "metadata": {},
   "outputs": [
    {
     "name": "stdout",
     "output_type": "stream",
     "text": [
      "         Name      School Grade  Score\n",
      "15  Student16  North High     C     76\n",
      "16  Student17  South High     A     97\n",
      "17  Student18  South High     C     72\n",
      "18  Student19  South High     C     70\n",
      "19  Student20   West High     A     93\n"
     ]
    }
   ],
   "source": [
    "print(df.tail())"
   ]
  },
  {
   "cell_type": "code",
   "execution_count": 18,
   "id": "6055ab75-5a6f-4fb9-8020-fae4f63379be",
   "metadata": {},
   "outputs": [
    {
     "name": "stdout",
     "output_type": "stream",
     "text": [
      "(20, 4)\n",
      "Index(['Name', 'School', 'Grade', 'Score'], dtype='object')\n",
      "           Score\n",
      "count  20.000000\n",
      "mean   80.050000\n",
      "std    19.789617\n",
      "min     6.000000\n",
      "25%    77.500000\n",
      "50%    83.000000\n",
      "75%    91.250000\n",
      "max    99.000000\n",
      "<class 'pandas.core.frame.DataFrame'>\n",
      "RangeIndex: 20 entries, 0 to 19\n",
      "Data columns (total 4 columns):\n",
      " #   Column  Non-Null Count  Dtype \n",
      "---  ------  --------------  ----- \n",
      " 0   Name    20 non-null     object\n",
      " 1   School  20 non-null     object\n",
      " 2   Grade   20 non-null     object\n",
      " 3   Score   20 non-null     int64 \n",
      "dtypes: int64(1), object(3)\n",
      "memory usage: 772.0+ bytes\n",
      "None\n"
     ]
    }
   ],
   "source": [
    "#check shape\n",
    "print(df.shape)\n",
    "\n",
    "#checl col names \n",
    "print(df.columns)\n",
    "\n",
    "#check summary stats\n",
    "print(df.describe())\n",
    "\n",
    "#info on data types and missing values \n",
    "print(df.info())"
   ]
  },
  {
   "cell_type": "code",
   "execution_count": 19,
   "id": "8e301176-5afc-47b7-940d-b607e6899146",
   "metadata": {},
   "outputs": [],
   "source": [
    "#indexing with loc and iloc"
   ]
  },
  {
   "cell_type": "code",
   "execution_count": 32,
   "id": "8830ac79-e3f9-4ca4-b11b-76da5a07b6a2",
   "metadata": {},
   "outputs": [
    {
     "name": "stdout",
     "output_type": "stream",
     "text": [
      "       Name Grade\n",
      "0  Student1     A\n",
      "1  Student2     F\n",
      "2  Student3     D\n"
     ]
    }
   ],
   "source": [
    "#single col\n",
    "#print(df['Name'])\n",
    "\n",
    "#multiple cols, use two square brackets \n",
    "#print(df[['Name', 'Grade']])\n",
    "\n",
    "#row by label using loc - uses names and is inclusive\n",
    "#print(df.loc[0])\n",
    "\n",
    "# #specific rows and columns\n",
    "# print(df.loc[0:2])\n",
    "\n",
    "#specific rows and columns\n",
    "print(df.loc[0:2, ['Name','Grade']])"
   ]
  },
  {
   "cell_type": "code",
   "execution_count": 33,
   "id": "ab1bbf98-449a-4f30-ad6c-3b64d7e203da",
   "metadata": {},
   "outputs": [
    {
     "name": "stdout",
     "output_type": "stream",
     "text": [
      "Name       Student1\n",
      "School    West High\n",
      "Grade             A\n",
      "Score            92\n",
      "Name: 0, dtype: object\n",
      "       Name      School\n",
      "0  Student1   West High\n",
      "1  Student2  South High\n"
     ]
    }
   ],
   "source": [
    "#iloc - uses numbers and is exclusive\n",
    "\n",
    "print(df.iloc[0])\n",
    "\n",
    "\n",
    "#specify rows and cols \n",
    "\n",
    "print(df.iloc[0:2, 0:2])"
   ]
  },
  {
   "cell_type": "code",
   "execution_count": 34,
   "id": "dbbc8930-8e49-43f6-be2f-68878c093a49",
   "metadata": {},
   "outputs": [],
   "source": [
    "# Names and scored of first 3 students\n",
    "\n",
    "print(df.loc[0:4, ['Name', 'Grade']])\n",
    "\n",
    "# all students from a specific school\n",
    "\n",
    "print(df.loc[df['School'] == 'West High' ])\n",
    "\n",
    "\n",
    "# Average score per school"
   ]
  },
  {
   "cell_type": "code",
   "execution_count": 50,
   "id": "c414a6c3-2c6c-40ac-996f-e5acb421bef3",
   "metadata": {},
   "outputs": [
    {
     "name": "stdout",
     "output_type": "stream",
     "text": [
      "         Name  Score\n",
      "18  Student19     70\n",
      "19  Student20     93\n"
     ]
    }
   ],
   "source": [
    "# Scored of the last 2 students\n",
    "print(df.iloc[-2:, [0,-1]])"
   ]
  },
  {
   "cell_type": "code",
   "execution_count": 53,
   "id": "ccfdf8b5-a723-46fb-993d-94e913574915",
   "metadata": {},
   "outputs": [
    {
     "name": "stdout",
     "output_type": "stream",
     "text": [
      "         Name      School Grade  Score\n",
      "11  Student12   West High     A     99\n",
      "16  Student17  South High     A     97\n",
      "4    Student5   West High     A     96\n",
      "19  Student20   West High     A     93\n",
      "0    Student1   West High     A     92\n",
      "5    Student6  South High     A     91\n",
      "9   Student10   East High     B     89\n",
      "3    Student4   West High     B     88\n",
      "12  Student13   West High     B     84\n",
      "6    Student7  North High     B     83\n",
      "14  Student15  South High     B     83\n",
      "8    Student9   West High     B     81\n",
      "13  Student14   West High     B     81\n",
      "7    Student8  North High     C     78\n",
      "10  Student11   West High     C     78\n",
      "15  Student16  North High     C     76\n",
      "17  Student18  South High     C     72\n",
      "18  Student19  South High     C     70\n",
      "2    Student3  North High     D     64\n",
      "1    Student2  South High     F      6\n"
     ]
    }
   ],
   "source": [
    "# sort by descending order\n",
    "print(df.sort_values(by='Score', ascending=False))"
   ]
  },
  {
   "cell_type": "code",
   "execution_count": 54,
   "id": "fc962f52-68ae-49d9-a975-4854b952fcfc",
   "metadata": {},
   "outputs": [],
   "source": [
    "#python reerse true?? print(df.sort(by='Score', ascending=False)) "
   ]
  },
  {
   "cell_type": "code",
   "execution_count": 55,
   "id": "c30a0417-4eed-4be8-8406-5c69f8cc7fe3",
   "metadata": {},
   "outputs": [
    {
     "name": "stdout",
     "output_type": "stream",
     "text": [
      "         Name      School Grade  Score\n",
      "0    Student1   West High     A     92\n",
      "3    Student4   West High     B     88\n",
      "4    Student5   West High     A     96\n",
      "5    Student6  South High     A     91\n",
      "6    Student7  North High     B     83\n",
      "8    Student9   West High     B     81\n",
      "9   Student10   East High     B     89\n",
      "11  Student12   West High     A     99\n",
      "12  Student13   West High     B     84\n",
      "13  Student14   West High     B     81\n",
      "14  Student15  South High     B     83\n",
      "16  Student17  South High     A     97\n",
      "19  Student20   West High     A     93\n"
     ]
    }
   ],
   "source": [
    "#filter students with scores above 80\n",
    "print(df.loc[df['Score'] > 80 ])"
   ]
  }
 ],
 "metadata": {
  "kernelspec": {
   "display_name": "Python 3 (ipykernel)",
   "language": "python",
   "name": "python3"
  },
  "language_info": {
   "codemirror_mode": {
    "name": "ipython",
    "version": 3
   },
   "file_extension": ".py",
   "mimetype": "text/x-python",
   "name": "python",
   "nbconvert_exporter": "python",
   "pygments_lexer": "ipython3",
   "version": "3.13.2"
  }
 },
 "nbformat": 4,
 "nbformat_minor": 5
}
